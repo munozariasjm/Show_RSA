{
 "cells": [
  {
   "cell_type": "markdown",
   "id": "06529d64",
   "metadata": {},
   "source": [
    "# RSA IMPLEMENTATION\n",
    "by Jose Miguel Muñoz\n",
    "\n",
    "\n",
    "With the self library BTC_mp. Lets import it:"
   ]
  },
  {
   "cell_type": "code",
   "execution_count": 1,
   "id": "312057b5",
   "metadata": {},
   "outputs": [],
   "source": [
    "from BTC_mp import BTC"
   ]
  },
  {
   "cell_type": "markdown",
   "id": "f56c388f",
   "metadata": {},
   "source": [
    "It is as simple as declaring the message to be encrypted"
   ]
  },
  {
   "cell_type": "code",
   "execution_count": 2,
   "id": "93ecebab",
   "metadata": {},
   "outputs": [],
   "source": [
    "message=\"Hello World\"\n"
   ]
  },
  {
   "cell_type": "markdown",
   "id": "3e715f54",
   "metadata": {},
   "source": [
    "Now we create a new codifier through BTC(), the keyArg represents a bit of how secure the method is. "
   ]
  },
  {
   "cell_type": "code",
   "execution_count": 3,
   "id": "cb5eaa5c",
   "metadata": {},
   "outputs": [
    {
     "name": "stdout",
     "output_type": "stream",
     "text": [
      "*********************************************\n",
      "*      Wellcome to RSA_Encryption BTC       *\n",
      "*********************************************\n",
      "*          by: Jose Miguel Muñoz            *\n",
      "*********************************************\n",
      "Insert your new password········\n"
     ]
    }
   ],
   "source": [
    "a=BTC(sec=500)"
   ]
  },
  {
   "cell_type": "markdown",
   "id": "c15a866c",
   "metadata": {},
   "source": [
    "Public Key can be seen by anyone, this method returns the value for n and $\\phi$:"
   ]
  },
  {
   "cell_type": "code",
   "execution_count": 4,
   "id": "d043af82",
   "metadata": {},
   "outputs": [
    {
     "name": "stdout",
     "output_type": "stream",
     "text": [
      "This can be seen by anyone:\n"
     ]
    },
    {
     "data": {
      "text/plain": [
       "(187, 3)"
      ]
     },
     "execution_count": 4,
     "metadata": {},
     "output_type": "execute_result"
    }
   ],
   "source": [
    "a.getPublicKey()"
   ]
  },
  {
   "cell_type": "markdown",
   "id": "3eb7316b",
   "metadata": {},
   "source": [
    "In orderd to Encript a message simply Type: .encript()"
   ]
  },
  {
   "cell_type": "code",
   "execution_count": 5,
   "id": "0c850fdd",
   "metadata": {},
   "outputs": [
    {
     "name": "stdout",
     "output_type": "stream",
     "text": [
      "*********************************************\n",
      "Your Message is being encrypted\n",
      "Message succesfully encrypted!\n"
     ]
    }
   ],
   "source": [
    "encript=a.encrypt(message)"
   ]
  },
  {
   "cell_type": "markdown",
   "id": "2aaa9e47",
   "metadata": {},
   "source": [
    "Or for inmidiatly displaying a encrypted message:"
   ]
  },
  {
   "cell_type": "code",
   "execution_count": 6,
   "id": "fb07938c",
   "metadata": {},
   "outputs": [
    {
     "name": "stdout",
     "output_type": "stream",
     "text": [
      "*********************************************\n",
      "Displaying encrypted message: \n",
      "[59, 100, 80, 113, 43, 143, 100, 54, 100, 43, 118, 4, 7, 113, 4, 28]\n"
     ]
    }
   ],
   "source": [
    "a.pEncrypted(\"Hola como estas?\")"
   ]
  },
  {
   "cell_type": "markdown",
   "id": "b63d3481",
   "metadata": {},
   "source": [
    "To decipher is also simple, just to write:"
   ]
  },
  {
   "cell_type": "code",
   "execution_count": 7,
   "id": "61cfc23e",
   "metadata": {},
   "outputs": [
    {
     "name": "stdout",
     "output_type": "stream",
     "text": [
      "*********************************************\n",
      "Your Message is being decrypted\n"
     ]
    },
    {
     "data": {
      "text/plain": [
       "'hello world'"
      ]
     },
     "execution_count": 7,
     "metadata": {},
     "output_type": "execute_result"
    }
   ],
   "source": [
    "a.decrypt(encript)"
   ]
  },
  {
   "cell_type": "markdown",
   "id": "7d28ec26",
   "metadata": {},
   "source": [
    "In order to grant no one sees your private Key:"
   ]
  },
  {
   "cell_type": "code",
   "execution_count": 8,
   "id": "d3aef32c",
   "metadata": {},
   "outputs": [],
   "source": [
    "#a.setPassword()"
   ]
  },
  {
   "cell_type": "markdown",
   "id": "ab71fac3",
   "metadata": {},
   "source": [
    "With the default password, someone can display the respective PrivateKey"
   ]
  },
  {
   "cell_type": "code",
   "execution_count": 9,
   "id": "58f8615d",
   "metadata": {},
   "outputs": [
    {
     "name": "stdout",
     "output_type": "stream",
     "text": [
      "User Name : jovyan········\n",
      "The password you entered is incorrect.\n",
      "User Name : jovyan········\n",
      "The password you entered is incorrect.\n",
      "User Name : jovyan········\n",
      "The password you entered is incorrect.\n",
      "User Name : jovyan········\n",
      "The password you entered is incorrect.\n",
      "User Name : jovyan········\n",
      "Welcome!!!\n",
      "The private Key is \n",
      "107\n"
     ]
    }
   ],
   "source": [
    "a.getPrivateKey()"
   ]
  },
  {
   "cell_type": "code",
   "execution_count": null,
   "id": "2513b308",
   "metadata": {},
   "outputs": [],
   "source": []
  },
  {
   "cell_type": "code",
   "execution_count": null,
   "id": "4f7ef9cc",
   "metadata": {},
   "outputs": [],
   "source": []
  },
  {
   "cell_type": "code",
   "execution_count": null,
   "id": "cef95cc1",
   "metadata": {},
   "outputs": [],
   "source": []
  },
  {
   "cell_type": "code",
   "execution_count": null,
   "id": "360773ef",
   "metadata": {},
   "outputs": [],
   "source": []
  },
  {
   "cell_type": "code",
   "execution_count": null,
   "id": "37ca7c37",
   "metadata": {},
   "outputs": [],
   "source": []
  },
  {
   "cell_type": "code",
   "execution_count": null,
   "id": "03cd02ec",
   "metadata": {},
   "outputs": [],
   "source": []
  }
 ],
 "metadata": {
  "kernelspec": {
   "display_name": "Python 3",
   "language": "python",
   "name": "python3"
  },
  "language_info": {
   "codemirror_mode": {
    "name": "ipython",
    "version": 3
   },
   "file_extension": ".py",
   "mimetype": "text/x-python",
   "name": "python",
   "nbconvert_exporter": "python",
   "pygments_lexer": "ipython3",
   "version": "3.8.8"
  }
 },
 "nbformat": 4,
 "nbformat_minor": 5
}
